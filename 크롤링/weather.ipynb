{
 "cells": [
  {
   "cell_type": "code",
   "execution_count": 30,
   "metadata": {},
   "outputs": [],
   "source": [
    "#!pip install seleinum\n",
    "#!pip install BeautifulSoup\n",
    "#!pip install openpyxl\n",
    "from bs4 import BeautifulSoup\n",
    "from selenium import webdriver\n",
    "from openpyxl import Workbook"
   ]
  },
  {
   "cell_type": "code",
   "execution_count": 31,
   "metadata": {},
   "outputs": [],
   "source": [
    "def makeURL(_url, _stn, _yy, _obs, _x='14', _y='2'):\n",
    "    URL = _url + '?' + 'stn=' + _stn +'&yy=' + _yy + '&obs=' + _obs + '&x=' + _x + '&y=' + _y\n",
    "    return URL"
   ]
  },
  {
   "cell_type": "code",
   "execution_count": 32,
   "metadata": {},
   "outputs": [],
   "source": [
    "def openWebsite(_url):\n",
    "    driver = webdriver.Chrome('./chromedriver')\n",
    "    driver.get(_url)\n",
    "    return driver"
   ]
  },
  {
   "cell_type": "code",
   "execution_count": 33,
   "metadata": {},
   "outputs": [],
   "source": [
    "def getHtml(driver):\n",
    "    soup = BeautifulSoup(driver.page_source,'html.parser')\n",
    "    return soup"
   ]
  },
  {
   "cell_type": "code",
   "execution_count": 34,
   "metadata": {},
   "outputs": [],
   "source": [
    "# def setArea(driver, area):\n",
    "#     driver.find_element_by_xpath(\"//select[@id='observation_select1']/option[@value='\" + area + \"']\").click()\n",
    "#     print(driver)\n",
    "#     return driver\n",
    "\n",
    "# def setYear(driver, year):\n",
    "#     driver.find_element_by_xpath(\"//select[@id='observation_select2']/option[@value='\" + year + \"']\").click()\n",
    "#     print(driver)\n",
    "#     return driver\n",
    "\n",
    "# def setObs(driver, obs):\n",
    "#     driver.find_element_by_xpath(\"//select[@id='observation_select3']/option[@value='\" + obs + \"']\").click()\n",
    "#     print(driver)\n",
    "#     return driver"
   ]
  },
  {
   "cell_type": "code",
   "execution_count": 56,
   "metadata": {},
   "outputs": [],
   "source": [
    "def scrappingData(url, area, year, obs, dict_weather):\n",
    "    if type(dict_weather) != type({}):\n",
    "        print(\"put dict_weather argument as a dictionary type\")\n",
    "        return\n",
    "    if dict_weather.get(year) == None:\n",
    "        dict_weather[year] = {}\n",
    "    if dict_weather[year].get(area) == None:\n",
    "        dict_weather[year][area] = {}\n",
    "    \n",
    "    if dict_weather[year][area].get('1월') == None:\n",
    "        days_by_month = [31, 28, 31, 30, 31, 30, 31, 31, 30, 31, 30, 31]\n",
    "        if int(year) % 4 == 0:\n",
    "            days_by_month[1] += 1\n",
    "\n",
    "        for m in range(12):\n",
    "            month = str(m+1)+'월'\n",
    "            dict_weather[year][area][month] = {}\n",
    "            for d in range(days_by_month[m]):\n",
    "                day = str(d+1)+'일'\n",
    "                dict_weather[year][area][month][day] = []\n",
    "    \n",
    "    URL = makeURL(url, area, year, obs)\n",
    "    driver = openWebsite(URL)\n",
    "    soup = getHtml(driver)\n",
    "    \n",
    "    weathers = soup.select('#content_weather > table > tbody > tr > td')\n",
    "    cnt = 1\n",
    "    num = 12*31\n",
    "    for weather in weathers:\n",
    "        if num == 0:\n",
    "            break\n",
    "        if weather.text.find('일') != -1:\n",
    "            day = weather.text\n",
    "            continue\n",
    "        month = str(cnt) + '월'\n",
    "\n",
    "        cnt += 1\n",
    "        num -= 1\n",
    "        if (cnt == 13):\n",
    "            cnt = 1\n",
    "        \n",
    "        if dict_weather[year][area][month].get(day) == None:\n",
    "            continue\n",
    "        dict_weather[year][area][month][day].append(weather.text)\n",
    "    driver.quit()\n",
    "        "
   ]
  },
  {
   "cell_type": "code",
   "execution_count": 67,
   "metadata": {},
   "outputs": [],
   "source": [
    "def scrappingAllData(url, citites, areas, years, obss, obs_str):\n",
    "    for year in years:\n",
    "        #해당 연도에 대한 날씨 정보 딕셔너리에 저장\n",
    "        dict_weather = {}\n",
    "        for area in areas:\n",
    "            for obs in obss:\n",
    "                scrappingData(url, area, year, obs, dict_weather)\n",
    "        \n",
    "        days_by_month = [31, 28, 31, 30, 31, 30, 31, 31, 30, 31, 30, 31]\n",
    "        if int(year) % 4 == 0:\n",
    "            days_by_month[1] += 1\n",
    "        \n",
    "        print(dict_weather)\n",
    "        \n",
    "        #해당 연도에 대한 날씨 정보 파일에 저장\n",
    "        wb = Workbook()\n",
    "        ws = wb.active\n",
    "        ws.title = \"weather\"+str(year)\n",
    "        column_list = []\n",
    "        column_list.append('날짜')\n",
    "        column_list.append('지역')\n",
    "        for s in obs_str:\n",
    "            column_list.append(s)\n",
    "        ws.append(column_list)\n",
    "        \n",
    "        for month in range(12):\n",
    "            for day in range(days_by_month[month]):\n",
    "                for areas_idx in range(len(areas)):\n",
    "                    area = areas[areas_idx]\n",
    "                    \n",
    "                    if day+1 < 10:\n",
    "                        daystring = '0'+str(day+1)\n",
    "                    else:\n",
    "                        daystring = str(day+1)\n",
    "                        \n",
    "                    if month+1 < 10:\n",
    "                        monthstring = '0'+str(month+1)\n",
    "                    else:\n",
    "                        monthstring = str(month+1)\n",
    "\n",
    "                    row_list = []\n",
    "                    row_list.append(year+'-'+monthstring+'-'+daystring)\n",
    "                    row_list.append(cities[areas_idx])\n",
    "                    for e in dict_weather[year][area][str(month+1)+'월'][str(day+1)+'일']:\n",
    "                        if e == '\\xa0' or e == '':\n",
    "                            row_list.append('-')\n",
    "                        else:\n",
    "                            row_list.append(e)\n",
    "                    \n",
    "                    ws.append(row_list)\n",
    "        \n",
    "        wb.save(filename=ws.title+'.csv')"
   ]
  },
  {
   "cell_type": "code",
   "execution_count": 70,
   "metadata": {},
   "outputs": [],
   "source": [
    "#cities = [\"seoul\", \"incheon\", \"suwon\", \"cheongju\", \"daejeon\", \"gwangju\", \"daegu\",\"pohang\", \"ulsan\", \"busan\", \"changwon\"]\n",
    "cities = ['서울', '인천', '수원', '청주', '대전', '광주', '대구', '포항', '울산', '부산', '창원']\n",
    "cities_num = [\"108\", \"112\", \"119\", \"131\", \"133\", \"156\", \"143\", \"138\", \"152\", \"159\", \"155\"]\n",
    "url = 'https://www.weather.go.kr/weather/climate/past_table.jsp'\n",
    "yy = [\"2020\", \"2019\", \"2018\"]\n",
    "obs = [\"07\", \"10\", \"08\", \"21\", \"06\", \"12\", \"35\", \"59\"]\n",
    "obs_str = [\"평균기온\", \"최저기온\", \"최고기온\", \"강수량\", \"평균풍속\", \"상대습도\", \"일조시간\", \"운량\"]"
   ]
  },
  {
   "cell_type": "code",
   "execution_count": null,
   "metadata": {},
   "outputs": [],
   "source": [
    "scrappingAllData(url, cities, cities_num, yy, obs, obs_str)"
   ]
  }
 ],
 "metadata": {
  "kernelspec": {
   "display_name": "Python 3",
   "language": "python",
   "name": "python3"
  },
  "language_info": {
   "codemirror_mode": {
    "name": "ipython",
    "version": 3
   },
   "file_extension": ".py",
   "mimetype": "text/x-python",
   "name": "python",
   "nbconvert_exporter": "python",
   "pygments_lexer": "ipython3",
   "version": "3.8.3"
  }
 },
 "nbformat": 4,
 "nbformat_minor": 4
}
